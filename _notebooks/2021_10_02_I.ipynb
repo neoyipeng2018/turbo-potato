{
  "nbformat": 4,
  "nbformat_minor": 0,
  "metadata": {
    "kernelspec": {
      "display_name": "visualization-curriculum-gF8wUgMm",
      "language": "python",
      "name": "visualization-curriculum-gf8wugmm"
    },
    "language_info": {
      "codemirror_mode": {
        "name": "ipython",
        "version": 3
      },
      "file_extension": ".py",
      "mimetype": "text/x-python",
      "name": "python",
      "nbconvert_exporter": "python",
      "pygments_lexer": "ipython3",
      "version": "3.6.7"
    },
    "varInspector": {
      "cols": {
        "lenName": 16,
        "lenType": 16,
        "lenVar": 40
      },
      "kernels_config": {
        "python": {
          "delete_cmd_postfix": "",
          "delete_cmd_prefix": "del ",
          "library": "var_list.py",
          "varRefreshCmd": "print(var_dic_list())"
        },
        "r": {
          "delete_cmd_postfix": ") ",
          "delete_cmd_prefix": "rm(",
          "library": "var_list.r",
          "varRefreshCmd": "cat(var_dic_list()) "
        }
      },
      "types_to_exclude": [
        "module",
        "function",
        "builtin_function_or_method",
        "instance",
        "_Feature"
      ],
      "window_display": false
    },
    "colab": {
      "name": "2021-10-02-I.ipynb",
      "provenance": [],
      "collapsed_sections": [],
      "include_colab_link": true
    }
  },
  "cells": [
    {
      "cell_type": "markdown",
      "metadata": {
        "id": "view-in-github",
        "colab_type": "text"
      },
      "source": [
        "<a href=\"https://colab.research.google.com/github/neoyipeng2018/turbo-potato/blob/master/_notebooks/2021_10_02_I.ipynb\" target=\"_parent\"><img src=\"https://colab.research.google.com/assets/colab-badge.svg\" alt=\"Open In Colab\"/></a>"
      ]
    },
    {
      "cell_type": "markdown",
      "metadata": {
        "id": "k-UvB5kCFgHj"
      },
      "source": [
        "# Turbo Potato #01\n",
        "> How I got here, where I am and where I'm heading\n",
        "\n",
        "- toc: true \n",
        "- badges: false\n",
        "- comments: true\n",
        "- categories: [career,life]\n",
        "<!-- - image: images/chart-preview.png -->"
      ]
    },
    {
      "cell_type": "markdown",
      "metadata": {
        "id": "K4YhS1y6J_4C"
      },
      "source": [
        "# How I got here - my ideal day\n",
        "I recall the first time I encountered coding. I was a kid and my mum had bought this toy where you can insert a card and there's some game inside of it. It's a super blur memory, but somehow it has stuck with me over time.\n",
        "\n",
        "The second time I got closer to writing code was when I went to junior college. I remember signing up for CS, and the teachers were extremely boring and the room was super cold. The lessons were just them reading off the slides in their monotonous voice and their zipped up jackets and then we had to write some code - i think it was some C language. I recall writing code to initialize a sudoko puzzle and seeing the code failing to compile while my fellow classmates who were from China solved it easily - at the time I decided this game was rigged against me, so I cut losses and switched to  double math and science instead - which was super fun, but I do wonder how life would be like if I started coding at 16 instead of 26. I guess life can only be understood backwards but lived forwards. \n",
        "\n",
        "The third time I got actually wrote code was when I was interning at Johnson and Johnson. I had this pretty cool boss who was also a career counsellor and he gave me some fun projects to create dashboards using excel, and that's when I learnt about automating stuff using VBA, and it was like my gateway drug to the coolness of making something manual and slow into a 5 second job. **I loved it**. At the time I thought okay I'm going to make a career out of this, but turns out no one really hires an accounting student who knows VBA to do VBA because \n",
        "1. I didn't actually have any coding background so my code was basically macro recorder + stitching from excel forums and it was not clean nor grounded in good coding principles and \n",
        "1. VB was not popular and sought after in actual coding jobs\n",
        "\n",
        "So, I was pretty lost when I came to graduation, so basically went through the first few years of my career just hopping around jobs trying to maximise the use of my double degree but at the same time not interested at all in accounting/reporting work.\n",
        "\n",
        "By pure luck, in my last non coding role, the bank I was working at was super hyped about innovation and automation, and along the way as I was doing reporting work, I automated as much as I could because I hate manual work. I was the techiest guy among a bunch of accountants, so I was tasked to experiment with all the tools we could use to automate stuff. Tried Robotics Process Automation, good ol' VBA, and Tableau/Power BI and finally Python. **Once I started coding in Python, I could see my ideal day - just coding up solutions/ideas to solve cool problems.** That was still a very vague idea but that was the first time I could see myself doing something as a career. So I took the plunge and signed up a master's in AI. At the time it was pretty hyped up, but I watched fast.ai videos and got hooked and super excited to apply it to the only industry I vaguely knew - finance."
      ]
    },
    {
      "cell_type": "markdown",
      "metadata": {
        "id": "TmVHtJhuFgHo"
      },
      "source": [
        "# Where I am\n",
        "\n",
        "Long story short, 2018-2020, I worked my face off, juggling a boring (reporting) workload that kept increasing, newly married life and a masters program, determined to make my ideal day a reality. \n",
        "\n",
        "With incredible serendipity, recently I managed to transfer to a team that applies machine learning to the markets, something I have decided to dedicate a decade or 2 to figure out."
      ]
    },
    {
      "cell_type": "markdown",
      "metadata": {
        "id": "zp0ZNRgRJvR3"
      },
      "source": [
        "# Where I am heading\n",
        "I'm going to spend the next few years experimenting with Deep Learning and model the markets with it - the future is always uncertain and we only have the present moment, but I'm working towards my ideal day - what is yours?"
      ]
    },
    {
      "cell_type": "markdown",
      "metadata": {
        "id": "2FESiAlxFgHp"
      },
      "source": [
        "# Lessons/Thoughts \n",
        "1. **It takes hard fucking work, but it's possible.** This is something I kept reminding myself. That moving towards doing stuff I cared about is paved with rejection, failures, disapointments. But at the end of the day, everything is figureoutable and I will get there with patience and grind.\n",
        "1. **You don't lose until you quit.** There were many points where I suffered major setbacks in my plan, and was frankly jaded and tired. But I kept going, mostly because I had decided that this was what I was going to do, and nothing was going to stop me unless I stop myself. So I kept going and grinding. By deciding never to quit until I tried it out, I could never lose.\n",
        "1. **When you are lost, try everything and notice what excites you**. As I went through cycles of switching roles, getting bored, finding jobs, I noticed the parts I enjoyed were learning something new, trying to automate/simplify things, and focusing on those things eventually gave me my first break.\n",
        "1. **Work is a big component of our lives, so the first priority is to enjoy the process**. It's so simple, but it's overlooked in our competitive culture where we are just trying to 'win', whatever that means. The real victory is happiness/contentment.\n",
        "1. **Stay motivated** by talking to yourself - refer to this sound clip below."
      ]
    },
    {
      "cell_type": "markdown",
      "metadata": {
        "id": "EwLtxNAWTZ3f"
      },
      "source": [
        "# Motivation\n"
      ]
    },
    {
      "cell_type": "markdown",
      "metadata": {
        "id": "FImZc-s2FgH0"
      },
      "source": [
        "> youtube: https://www.youtube.com/watch?v=N3t-em026ec"
      ]
    }
  ]
}